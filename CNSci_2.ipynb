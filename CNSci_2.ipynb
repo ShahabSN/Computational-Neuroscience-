{
  "nbformat": 4,
  "nbformat_minor": 0,
  "metadata": {
    "colab": {
      "provenance": [],
      "mount_file_id": "1nG4DbNon9VOUK9l5VPg467H2U0Sh9SyV",
      "authorship_tag": "ABX9TyOcNo/TEWDmOpE9t7TENqa+",
      "include_colab_link": true
    },
    "kernelspec": {
      "name": "python3",
      "display_name": "Python 3"
    },
    "language_info": {
      "name": "python"
    }
  },
  "cells": [
    {
      "cell_type": "markdown",
      "metadata": {
        "id": "view-in-github",
        "colab_type": "text"
      },
      "source": [
        "<a href=\"https://colab.research.google.com/github/ShahabSN/Computational-Neuroscience-/blob/main/CNSci_2.ipynb\" target=\"_parent\"><img src=\"https://colab.research.google.com/assets/colab-badge.svg\" alt=\"Open In Colab\"/></a>"
      ]
    },
    {
      "cell_type": "code",
      "execution_count": 1,
      "metadata": {
        "colab": {
          "base_uri": "https://localhost:8080/"
        },
        "id": "pCQ7qafluNQ1",
        "outputId": "c3a89167-21a6-40f0-c814-8fa524c617ca"
      },
      "outputs": [
        {
          "output_type": "stream",
          "name": "stdout",
          "text": [
            "Mounted at /content/drive\n"
          ]
        }
      ],
      "source": [
        "from google.colab import drive\n",
        "drive.mount('/content/drive')\n"
      ]
    },
    {
      "cell_type": "code",
      "source": [
        "import numpy as np\n",
        "import matplotlib.pyplot as plt\n",
        "from scipy.io import loadmat"
      ],
      "metadata": {
        "id": "P4XgL-Qh7cwT"
      },
      "execution_count": 2,
      "outputs": []
    },
    {
      "cell_type": "code",
      "source": [
        "a = np.arange(5)\n",
        "a"
      ],
      "metadata": {
        "colab": {
          "base_uri": "https://localhost:8080/"
        },
        "id": "-yj0D8hx-0Vb",
        "outputId": "e8661ff7-6229-45cb-c7b8-ac853a25507b"
      },
      "execution_count": 3,
      "outputs": [
        {
          "output_type": "execute_result",
          "data": {
            "text/plain": [
              "array([0, 1, 2, 3, 4])"
            ]
          },
          "metadata": {},
          "execution_count": 3
        }
      ]
    },
    {
      "cell_type": "code",
      "source": [
        "data = loadmat('/content/drive/MyDrive/Colab Notebooks/computational Neuroscience /EEG_P2090.mat')\n",
        "data"
      ],
      "metadata": {
        "colab": {
          "base_uri": "https://localhost:8080/"
        },
        "id": "w5RigccR_ewp",
        "outputId": "5f284b14-3b30-4797-f7e6-c7733118f991"
      },
      "execution_count": 5,
      "outputs": [
        {
          "output_type": "execute_result",
          "data": {
            "text/plain": [
              "{'__header__': b'MATLAB 5.0 MAT-file, Platform: PCWIN64, Created on: Sun Jun 25 17:42:00 2023',\n",
              " '__version__': '1.0',\n",
              " '__globals__': [],\n",
              " 'EEG_P2090_processed': array([[ 0.08099003,  0.38671721,  0.85455762, ...,  0.20612061,\n",
              "          0.1243387 ,  0.07913327],\n",
              "        [ 0.06588963,  0.42519367,  0.91695394, ...,  0.25171279,\n",
              "          0.33942146,  0.45061869],\n",
              "        [ 0.14993292,  0.58781633,  1.04748039, ..., -0.07837302,\n",
              "          0.25798247,  0.1771873 ],\n",
              "        ...,\n",
              "        [-0.52378222, -0.62752993, -0.66040078, ..., -0.49474289,\n",
              "         -0.54995814, -0.58349074],\n",
              "        [-0.58428771, -0.83443523, -0.97892268, ..., -0.33422464,\n",
              "         -0.30624082, -0.30239014],\n",
              "        [-0.25038106, -0.30457022, -0.38009657, ...,  0.04978373,\n",
              "         -0.10943916, -0.1790117 ]])}"
            ]
          },
          "metadata": {},
          "execution_count": 5
        }
      ]
    },
    {
      "cell_type": "code",
      "source": [
        "EEG = data['EEG_P2090_processed']\n",
        "EEG"
      ],
      "metadata": {
        "colab": {
          "base_uri": "https://localhost:8080/"
        },
        "id": "wVUPu8qTVhps",
        "outputId": "f892a265-ef01-4e04-85e7-595cfedf180a"
      },
      "execution_count": 6,
      "outputs": [
        {
          "output_type": "execute_result",
          "data": {
            "text/plain": [
              "array([[ 0.08099003,  0.38671721,  0.85455762, ...,  0.20612061,\n",
              "         0.1243387 ,  0.07913327],\n",
              "       [ 0.06588963,  0.42519367,  0.91695394, ...,  0.25171279,\n",
              "         0.33942146,  0.45061869],\n",
              "       [ 0.14993292,  0.58781633,  1.04748039, ..., -0.07837302,\n",
              "         0.25798247,  0.1771873 ],\n",
              "       ...,\n",
              "       [-0.52378222, -0.62752993, -0.66040078, ..., -0.49474289,\n",
              "        -0.54995814, -0.58349074],\n",
              "       [-0.58428771, -0.83443523, -0.97892268, ..., -0.33422464,\n",
              "        -0.30624082, -0.30239014],\n",
              "       [-0.25038106, -0.30457022, -0.38009657, ...,  0.04978373,\n",
              "        -0.10943916, -0.1790117 ]])"
            ]
          },
          "metadata": {},
          "execution_count": 6
        }
      ]
    },
    {
      "cell_type": "code",
      "source": [
        "EEG.shape\n"
      ],
      "metadata": {
        "colab": {
          "base_uri": "https://localhost:8080/"
        },
        "id": "n8_17J5dV3ez",
        "outputId": "9f726067-7d82-407f-89ac-c0671dd138ca"
      },
      "execution_count": 7,
      "outputs": [
        {
          "output_type": "execute_result",
          "data": {
            "text/plain": [
              "(29, 150310)"
            ]
          },
          "metadata": {},
          "execution_count": 7
        }
      ]
    },
    {
      "cell_type": "code",
      "source": [
        "number_of_channel =EEG.shape[0]\n",
        "number_of_sample = EEG.shape[1]\n",
        "\n",
        "print(f\"Number of channel {number_of_channel}\")\n",
        "print(f\"Number of sample {number_of_sample}\")"
      ],
      "metadata": {
        "colab": {
          "base_uri": "https://localhost:8080/"
        },
        "id": "FeNSY41vWHeH",
        "outputId": "f7da664e-b770-4fa6-8e1d-916360e86b1d"
      },
      "execution_count": 9,
      "outputs": [
        {
          "output_type": "stream",
          "name": "stdout",
          "text": [
            "Number of channel 29\n",
            "Number of sample 150310\n"
          ]
        }
      ]
    },
    {
      "cell_type": "code",
      "source": [
        "frequency = 500"
      ],
      "metadata": {
        "id": "SQmtatImWgOD"
      },
      "execution_count": 10,
      "outputs": []
    },
    {
      "cell_type": "code",
      "source": [
        "time_duration = number_of_sample / frequency\n",
        "\n",
        "print(f\"the time duration of each signal is {time_duration}\")\n",
        "print(f\"the time duration of each signal in minutes is {time_duration/ 60}\")"
      ],
      "metadata": {
        "colab": {
          "base_uri": "https://localhost:8080/"
        },
        "id": "vscVuNurXH_i",
        "outputId": "63cbebb9-143d-4bba-c554-dc741abac1c1"
      },
      "execution_count": 11,
      "outputs": [
        {
          "output_type": "stream",
          "name": "stdout",
          "text": [
            "the time duration of each signal is 300.62\n",
            "the time duration of each signal in minutes is 5.0103333333333335\n"
          ]
        }
      ]
    },
    {
      "cell_type": "markdown",
      "source": [
        "##Visualization"
      ],
      "metadata": {
        "id": "VxcvRpH4X8Uc"
      }
    },
    {
      "cell_type": "code",
      "source": [
        "channel_toplot = 2\n",
        "time = range(EEG.shape[1])\n",
        "time"
      ],
      "metadata": {
        "colab": {
          "base_uri": "https://localhost:8080/"
        },
        "id": "RY3_sOi4X14X",
        "outputId": "7e501f7a-6672-4310-f426-030f832fb1bf"
      },
      "execution_count": 12,
      "outputs": [
        {
          "output_type": "execute_result",
          "data": {
            "text/plain": [
              "range(0, 150310)"
            ]
          },
          "metadata": {},
          "execution_count": 12
        }
      ]
    },
    {
      "cell_type": "code",
      "source": [
        "plt.figure(figsize = (10,5))\n",
        "plt.plot(time, EEG[channel_toplot])\n",
        "plt.title(f\"EEG signal from channel {channel_toplot}\")\n",
        "plt.xlabel(\"Number of samples\")\n",
        "plt.ylabel(\"Amplitude\")"
      ],
      "metadata": {
        "colab": {
          "base_uri": "https://localhost:8080/",
          "height": 504
        },
        "id": "BMy_OwENYbMr",
        "outputId": "2e7d87b8-b781-4e5a-f1f7-1055ab700722"
      },
      "execution_count": 13,
      "outputs": [
        {
          "output_type": "execute_result",
          "data": {
            "text/plain": [
              "Text(0, 0.5, 'Amplitude')"
            ]
          },
          "metadata": {},
          "execution_count": 13
        },
        {
          "output_type": "display_data",
          "data": {
            "text/plain": [
              "<Figure size 1000x500 with 1 Axes>"
            ],
            "image/png": "[encoded data removed]"
          },
          "metadata": {}
        }
      ]
    },
    {
      "cell_type": "code",
      "source": [],
      "metadata": {
        "id": "4csaiXdkZW0L"
      },
      "execution_count": null,
      "outputs": []
    }
  ]
}